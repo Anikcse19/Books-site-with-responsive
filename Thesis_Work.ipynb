{
  "cells": [
    {
      "cell_type": "markdown",
      "metadata": {
        "id": "view-in-github",
        "colab_type": "text"
      },
      "source": [
        "<a href=\"https://colab.research.google.com/github/Anikcse19/Books-site-with-responsive/blob/main/Thesis_Work.ipynb\" target=\"_parent\"><img src=\"https://colab.research.google.com/assets/colab-badge.svg\" alt=\"Open In Colab\"/></a>"
      ]
    },
    {
      "cell_type": "code",
      "execution_count": null,
      "metadata": {
        "id": "gDVz5lkkE-bV",
        "colab": {
          "base_uri": "https://localhost:8080/"
        },
        "outputId": "e6f4d029-0d7b-4240-adb8-637ca74f7c0e"
      },
      "outputs": [
        {
          "output_type": "stream",
          "name": "stdout",
          "text": [
            "Drive already mounted at /content/drive; to attempt to forcibly remount, call drive.mount(\"/content/drive\", force_remount=True).\n"
          ]
        }
      ],
      "source": [
        "from google.colab import drive\n",
        "drive.mount('/content/drive')"
      ]
    },
    {
      "cell_type": "code",
      "execution_count": null,
      "metadata": {
        "id": "d99PPp_OJQEd"
      },
      "outputs": [],
      "source": [
        "import numpy as np\n",
        "import pandas as pd\n",
        "import seaborn as sns\n",
        "import matplotlib.pyplot as plt\n",
        "from scipy import stats\n",
        "from scipy.stats import pearsonr"
      ]
    },
    {
      "cell_type": "markdown",
      "metadata": {
        "id": "Gq-Q-_sNc0Lo"
      },
      "source": [
        "imported batting data"
      ]
    },
    {
      "cell_type": "code",
      "execution_count": null,
      "metadata": {
        "id": "SAm90Xmnc559"
      },
      "outputs": [],
      "source": [
        "batting_data=pd.read_csv('/content/drive/MyDrive/Thesis Data set/Batting list/Batting dataset.xlsx - Sheet1 (1).csv',encoding= 'unicode_escape')\n",
        "batting_data"
      ]
    },
    {
      "cell_type": "code",
      "execution_count": null,
      "metadata": {
        "id": "ANG3jZ1-LPrb"
      },
      "outputs": [],
      "source": [
        "batting_data.info()"
      ]
    },
    {
      "cell_type": "code",
      "execution_count": null,
      "metadata": {
        "id": "snDySZsnLVkg"
      },
      "outputs": [],
      "source": [
        "batting_data.describe()"
      ]
    },
    {
      "cell_type": "markdown",
      "metadata": {
        "id": "JEfKCORqdCa0"
      },
      "source": [
        "Find coorelation of batting dataset"
      ]
    },
    {
      "cell_type": "code",
      "execution_count": null,
      "metadata": {
        "id": "5gHxORg-QAhK"
      },
      "outputs": [],
      "source": [
        "batting_data.corr()"
      ]
    },
    {
      "cell_type": "code",
      "execution_count": null,
      "metadata": {
        "id": "VOP7gQzHNxxl"
      },
      "outputs": [],
      "source": [
        "plt.figure(figsize=(12,10))\n",
        "corr=batting_data.corr()\n",
        "sns.heatmap(corr,annot=True)\n",
        "plt.show()"
      ]
    },
    {
      "cell_type": "code",
      "execution_count": null,
      "metadata": {
        "id": "1oetfS0RcAVX"
      },
      "outputs": [],
      "source": [
        "batting_data_updated=batting_data.drop('Minutes', axis=1)"
      ]
    },
    {
      "cell_type": "code",
      "execution_count": null,
      "metadata": {
        "id": "c5ScXE3TfWVk"
      },
      "outputs": [],
      "source": [
        "batting_data_updated"
      ]
    },
    {
      "cell_type": "markdown",
      "metadata": {
        "id": "g-fM7vjZdLjP"
      },
      "source": [
        "Imported Batting weather dataset\n"
      ]
    },
    {
      "cell_type": "code",
      "execution_count": null,
      "metadata": {
        "id": "iOzKeJkndOKI"
      },
      "outputs": [],
      "source": [
        "batting_weather_dataset=pd.read_csv('/content/drive/MyDrive/Thesis Data set/Weather Dataset/Weather Dataset - Sheet1.csv')\n",
        "batting_weather_dataset"
      ]
    },
    {
      "cell_type": "code",
      "execution_count": null,
      "metadata": {
        "id": "rMTXWl5-dytH"
      },
      "outputs": [],
      "source": [
        "batting_weather_dataset.info()"
      ]
    },
    {
      "cell_type": "markdown",
      "metadata": {
        "id": "3DBSyl5Ud8yV"
      },
      "source": [
        "Find coorelation of weather dataset"
      ]
    },
    {
      "cell_type": "code",
      "execution_count": null,
      "metadata": {
        "id": "lVoZD6HheATA"
      },
      "outputs": [],
      "source": [
        "batting_weather_dataset.corr()"
      ]
    },
    {
      "cell_type": "code",
      "execution_count": null,
      "metadata": {
        "id": "pzGICkHBeFQj"
      },
      "outputs": [],
      "source": [
        "plt.figure(figsize=(12,10))\n",
        "corr=batting_weather_dataset.corr()\n",
        "sns.heatmap(corr,annot=True)\n",
        "plt.show()"
      ]
    },
    {
      "cell_type": "code",
      "execution_count": null,
      "metadata": {
        "id": "q32G9S2XeYcE"
      },
      "outputs": [],
      "source": [
        "batting_weather_dataset_updated=batting_weather_dataset.drop('Feels',axis=1)\n",
        "batting_weather_dataset_updated=batting_weather_dataset_updated.drop('Gust',axis=1)\n",
        "batting_weather_dataset_updated"
      ]
    },
    {
      "cell_type": "markdown",
      "source": [
        "Bowling weather dataset"
      ],
      "metadata": {
        "id": "ui00gF_1tHNx"
      }
    },
    {
      "cell_type": "code",
      "source": [
        "bowling_weather_dataset=pd.read_csv('/content/drive/MyDrive/Thesis Data set/Bowling Weather Dataset/Bowling weather dataset - Sheet1.csv')\n",
        "bowling_weather_dataset"
      ],
      "metadata": {
        "id": "A5S01JF9tKZH"
      },
      "execution_count": null,
      "outputs": []
    },
    {
      "cell_type": "code",
      "source": [
        "bowling_weather_dataset.corr()"
      ],
      "metadata": {
        "id": "UNnVwy0Ztixp"
      },
      "execution_count": null,
      "outputs": []
    },
    {
      "cell_type": "code",
      "source": [
        "plt.figure(figsize=(12,10))\n",
        "corr=batting_weather_dataset.corr()\n",
        "sns.heatmap(corr,annot=True)\n",
        "plt.show()"
      ],
      "metadata": {
        "id": "IjN1FL45txVL"
      },
      "execution_count": null,
      "outputs": []
    },
    {
      "cell_type": "code",
      "source": [
        "bowling_weather_dataset_updated=bowling_weather_dataset.drop('Feels',axis=1)\n",
        "bowling_weather_dataset_updated=bowling_weather_dataset_updated.drop('Gust',axis=1)\n",
        "bowling_weather_dataset_updated"
      ],
      "metadata": {
        "id": "q7vWQE7rtzEf"
      },
      "execution_count": null,
      "outputs": []
    },
    {
      "cell_type": "markdown",
      "source": [
        "Imported Fielding Weather Dataset"
      ],
      "metadata": {
        "id": "G3JGZNWnuF10"
      }
    },
    {
      "cell_type": "code",
      "source": [
        "fielding_weather_dataset=pd.read_csv('/content/drive/MyDrive/Thesis Data set/Bowling Weather Dataset/Bowling weather dataset - Sheet1.csv')\n",
        "fielding_weather_dataset"
      ],
      "metadata": {
        "id": "bXXjQ54FuKKm"
      },
      "execution_count": null,
      "outputs": []
    },
    {
      "cell_type": "code",
      "source": [
        "fielding_weather_dataset_updated=fielding_weather_dataset.drop('Feels',axis=1)\n",
        "fielding_weather_dataset_updated=fielding_weather_dataset_updated.drop('Gust',axis=1)\n",
        "fielding_weather_dataset_updated"
      ],
      "metadata": {
        "colab": {
          "base_uri": "https://localhost:8080/",
          "height": 641
        },
        "id": "t9kurtH2uj9J",
        "outputId": "9e68f0a4-5574-4daf-e01b-800f88a3beb2"
      },
      "execution_count": 57,
      "outputs": [
        {
          "output_type": "execute_result",
          "data": {
            "text/plain": [
              "          Date  Match_id    URL_Text Bowling_Session  \\\n",
              "0    19-Mar-15    656485  ODI # 3641     14.30-18.00   \n",
              "1    17-Apr-15    858485  ODI # 3647     18.45-22.15   \n",
              "2    19-Apr-15    858487  ODI # 3648     14.30-18.00   \n",
              "3    22-Apr-15    858489  ODI # 3649     14.30-18.00   \n",
              "4    18-Jun-15    870731  ODI # 3658     19.15-22.45   \n",
              "..         ...       ...         ...             ...   \n",
              "101  01-Mar-23   1351397  ODI # 4525     16.15-19.45   \n",
              "102  03-Mar-23   1351398  ODI # 4528     12.00-15.30   \n",
              "103  06-Mar-23   1351399  ODI # 4531     16.15-19.45   \n",
              "104  18-Mar-23   1355717  ODI # 4539     15.00-18.30   \n",
              "105  23-Mar-23   1355719  ODI # 4547     10.45-14.15   \n",
              "\n",
              "                                    Venue  Temp  Wind  Rain  Cloud  Pressure  \n",
              "0                Melbourne Cricket Ground    24    13   0.2     72      1017  \n",
              "1           Shere Bangla National Stadium    31    13   0.0     46      1004  \n",
              "2           Shere Bangla National Stadium    27    12   0.0     23      1007  \n",
              "3           Shere Bangla National Stadium    25    13   2.4     65      1005  \n",
              "4           Shere Bangla National Stadium    31    10   0.0     22       999  \n",
              "..                                    ...   ...   ...   ...    ...       ...  \n",
              "101         Shere Bangla National Stadium    31    14   0.0      0      1011  \n",
              "102         Shere Bangla National Stadium    30    11   0.0      0      1012  \n",
              "103         Zahur Ahmed Chowdhury Stadium    28    13   0.0      0      1010  \n",
              "104  Sylhet International Cricket Stadium    27    14   0.0     29      1012  \n",
              "105  Sylhet International Cricket Stadium    28    11   0.0      8      1006  \n",
              "\n",
              "[106 rows x 10 columns]"
            ],
            "text/html": [
              "\n",
              "  <div id=\"df-08a5706b-09c6-4875-81ad-0bccfcb5a4dc\">\n",
              "    <div class=\"colab-df-container\">\n",
              "      <div>\n",
              "<style scoped>\n",
              "    .dataframe tbody tr th:only-of-type {\n",
              "        vertical-align: middle;\n",
              "    }\n",
              "\n",
              "    .dataframe tbody tr th {\n",
              "        vertical-align: top;\n",
              "    }\n",
              "\n",
              "    .dataframe thead th {\n",
              "        text-align: right;\n",
              "    }\n",
              "</style>\n",
              "<table border=\"1\" class=\"dataframe\">\n",
              "  <thead>\n",
              "    <tr style=\"text-align: right;\">\n",
              "      <th></th>\n",
              "      <th>Date</th>\n",
              "      <th>Match_id</th>\n",
              "      <th>URL_Text</th>\n",
              "      <th>Bowling_Session</th>\n",
              "      <th>Venue</th>\n",
              "      <th>Temp</th>\n",
              "      <th>Wind</th>\n",
              "      <th>Rain</th>\n",
              "      <th>Cloud</th>\n",
              "      <th>Pressure</th>\n",
              "    </tr>\n",
              "  </thead>\n",
              "  <tbody>\n",
              "    <tr>\n",
              "      <th>0</th>\n",
              "      <td>19-Mar-15</td>\n",
              "      <td>656485</td>\n",
              "      <td>ODI # 3641</td>\n",
              "      <td>14.30-18.00</td>\n",
              "      <td>Melbourne Cricket Ground</td>\n",
              "      <td>24</td>\n",
              "      <td>13</td>\n",
              "      <td>0.2</td>\n",
              "      <td>72</td>\n",
              "      <td>1017</td>\n",
              "    </tr>\n",
              "    <tr>\n",
              "      <th>1</th>\n",
              "      <td>17-Apr-15</td>\n",
              "      <td>858485</td>\n",
              "      <td>ODI # 3647</td>\n",
              "      <td>18.45-22.15</td>\n",
              "      <td>Shere Bangla National Stadium</td>\n",
              "      <td>31</td>\n",
              "      <td>13</td>\n",
              "      <td>0.0</td>\n",
              "      <td>46</td>\n",
              "      <td>1004</td>\n",
              "    </tr>\n",
              "    <tr>\n",
              "      <th>2</th>\n",
              "      <td>19-Apr-15</td>\n",
              "      <td>858487</td>\n",
              "      <td>ODI # 3648</td>\n",
              "      <td>14.30-18.00</td>\n",
              "      <td>Shere Bangla National Stadium</td>\n",
              "      <td>27</td>\n",
              "      <td>12</td>\n",
              "      <td>0.0</td>\n",
              "      <td>23</td>\n",
              "      <td>1007</td>\n",
              "    </tr>\n",
              "    <tr>\n",
              "      <th>3</th>\n",
              "      <td>22-Apr-15</td>\n",
              "      <td>858489</td>\n",
              "      <td>ODI # 3649</td>\n",
              "      <td>14.30-18.00</td>\n",
              "      <td>Shere Bangla National Stadium</td>\n",
              "      <td>25</td>\n",
              "      <td>13</td>\n",
              "      <td>2.4</td>\n",
              "      <td>65</td>\n",
              "      <td>1005</td>\n",
              "    </tr>\n",
              "    <tr>\n",
              "      <th>4</th>\n",
              "      <td>18-Jun-15</td>\n",
              "      <td>870731</td>\n",
              "      <td>ODI # 3658</td>\n",
              "      <td>19.15-22.45</td>\n",
              "      <td>Shere Bangla National Stadium</td>\n",
              "      <td>31</td>\n",
              "      <td>10</td>\n",
              "      <td>0.0</td>\n",
              "      <td>22</td>\n",
              "      <td>999</td>\n",
              "    </tr>\n",
              "    <tr>\n",
              "      <th>...</th>\n",
              "      <td>...</td>\n",
              "      <td>...</td>\n",
              "      <td>...</td>\n",
              "      <td>...</td>\n",
              "      <td>...</td>\n",
              "      <td>...</td>\n",
              "      <td>...</td>\n",
              "      <td>...</td>\n",
              "      <td>...</td>\n",
              "      <td>...</td>\n",
              "    </tr>\n",
              "    <tr>\n",
              "      <th>101</th>\n",
              "      <td>01-Mar-23</td>\n",
              "      <td>1351397</td>\n",
              "      <td>ODI # 4525</td>\n",
              "      <td>16.15-19.45</td>\n",
              "      <td>Shere Bangla National Stadium</td>\n",
              "      <td>31</td>\n",
              "      <td>14</td>\n",
              "      <td>0.0</td>\n",
              "      <td>0</td>\n",
              "      <td>1011</td>\n",
              "    </tr>\n",
              "    <tr>\n",
              "      <th>102</th>\n",
              "      <td>03-Mar-23</td>\n",
              "      <td>1351398</td>\n",
              "      <td>ODI # 4528</td>\n",
              "      <td>12.00-15.30</td>\n",
              "      <td>Shere Bangla National Stadium</td>\n",
              "      <td>30</td>\n",
              "      <td>11</td>\n",
              "      <td>0.0</td>\n",
              "      <td>0</td>\n",
              "      <td>1012</td>\n",
              "    </tr>\n",
              "    <tr>\n",
              "      <th>103</th>\n",
              "      <td>06-Mar-23</td>\n",
              "      <td>1351399</td>\n",
              "      <td>ODI # 4531</td>\n",
              "      <td>16.15-19.45</td>\n",
              "      <td>Zahur Ahmed Chowdhury Stadium</td>\n",
              "      <td>28</td>\n",
              "      <td>13</td>\n",
              "      <td>0.0</td>\n",
              "      <td>0</td>\n",
              "      <td>1010</td>\n",
              "    </tr>\n",
              "    <tr>\n",
              "      <th>104</th>\n",
              "      <td>18-Mar-23</td>\n",
              "      <td>1355717</td>\n",
              "      <td>ODI # 4539</td>\n",
              "      <td>15.00-18.30</td>\n",
              "      <td>Sylhet International Cricket Stadium</td>\n",
              "      <td>27</td>\n",
              "      <td>14</td>\n",
              "      <td>0.0</td>\n",
              "      <td>29</td>\n",
              "      <td>1012</td>\n",
              "    </tr>\n",
              "    <tr>\n",
              "      <th>105</th>\n",
              "      <td>23-Mar-23</td>\n",
              "      <td>1355719</td>\n",
              "      <td>ODI # 4547</td>\n",
              "      <td>10.45-14.15</td>\n",
              "      <td>Sylhet International Cricket Stadium</td>\n",
              "      <td>28</td>\n",
              "      <td>11</td>\n",
              "      <td>0.0</td>\n",
              "      <td>8</td>\n",
              "      <td>1006</td>\n",
              "    </tr>\n",
              "  </tbody>\n",
              "</table>\n",
              "<p>106 rows × 10 columns</p>\n",
              "</div>\n",
              "      <button class=\"colab-df-convert\" onclick=\"convertToInteractive('df-08a5706b-09c6-4875-81ad-0bccfcb5a4dc')\"\n",
              "              title=\"Convert this dataframe to an interactive table.\"\n",
              "              style=\"display:none;\">\n",
              "        \n",
              "  <svg xmlns=\"http://www.w3.org/2000/svg\" height=\"24px\"viewBox=\"0 0 24 24\"\n",
              "       width=\"24px\">\n",
              "    <path d=\"M0 0h24v24H0V0z\" fill=\"none\"/>\n",
              "    <path d=\"M18.56 5.44l.94 2.06.94-2.06 2.06-.94-2.06-.94-.94-2.06-.94 2.06-2.06.94zm-11 1L8.5 8.5l.94-2.06 2.06-.94-2.06-.94L8.5 2.5l-.94 2.06-2.06.94zm10 10l.94 2.06.94-2.06 2.06-.94-2.06-.94-.94-2.06-.94 2.06-2.06.94z\"/><path d=\"M17.41 7.96l-1.37-1.37c-.4-.4-.92-.59-1.43-.59-.52 0-1.04.2-1.43.59L10.3 9.45l-7.72 7.72c-.78.78-.78 2.05 0 2.83L4 21.41c.39.39.9.59 1.41.59.51 0 1.02-.2 1.41-.59l7.78-7.78 2.81-2.81c.8-.78.8-2.07 0-2.86zM5.41 20L4 18.59l7.72-7.72 1.47 1.35L5.41 20z\"/>\n",
              "  </svg>\n",
              "      </button>\n",
              "      \n",
              "  <style>\n",
              "    .colab-df-container {\n",
              "      display:flex;\n",
              "      flex-wrap:wrap;\n",
              "      gap: 12px;\n",
              "    }\n",
              "\n",
              "    .colab-df-convert {\n",
              "      background-color: #E8F0FE;\n",
              "      border: none;\n",
              "      border-radius: 50%;\n",
              "      cursor: pointer;\n",
              "      display: none;\n",
              "      fill: #1967D2;\n",
              "      height: 32px;\n",
              "      padding: 0 0 0 0;\n",
              "      width: 32px;\n",
              "    }\n",
              "\n",
              "    .colab-df-convert:hover {\n",
              "      background-color: #E2EBFA;\n",
              "      box-shadow: 0px 1px 2px rgba(60, 64, 67, 0.3), 0px 1px 3px 1px rgba(60, 64, 67, 0.15);\n",
              "      fill: #174EA6;\n",
              "    }\n",
              "\n",
              "    [theme=dark] .colab-df-convert {\n",
              "      background-color: #3B4455;\n",
              "      fill: #D2E3FC;\n",
              "    }\n",
              "\n",
              "    [theme=dark] .colab-df-convert:hover {\n",
              "      background-color: #434B5C;\n",
              "      box-shadow: 0px 1px 3px 1px rgba(0, 0, 0, 0.15);\n",
              "      filter: drop-shadow(0px 1px 2px rgba(0, 0, 0, 0.3));\n",
              "      fill: #FFFFFF;\n",
              "    }\n",
              "  </style>\n",
              "\n",
              "      <script>\n",
              "        const buttonEl =\n",
              "          document.querySelector('#df-08a5706b-09c6-4875-81ad-0bccfcb5a4dc button.colab-df-convert');\n",
              "        buttonEl.style.display =\n",
              "          google.colab.kernel.accessAllowed ? 'block' : 'none';\n",
              "\n",
              "        async function convertToInteractive(key) {\n",
              "          const element = document.querySelector('#df-08a5706b-09c6-4875-81ad-0bccfcb5a4dc');\n",
              "          const dataTable =\n",
              "            await google.colab.kernel.invokeFunction('convertToInteractive',\n",
              "                                                     [key], {});\n",
              "          if (!dataTable) return;\n",
              "\n",
              "          const docLinkHtml = 'Like what you see? Visit the ' +\n",
              "            '<a target=\"_blank\" href=https://colab.research.google.com/notebooks/data_table.ipynb>data table notebook</a>'\n",
              "            + ' to learn more about interactive tables.';\n",
              "          element.innerHTML = '';\n",
              "          dataTable['output_type'] = 'display_data';\n",
              "          await google.colab.output.renderOutput(dataTable, element);\n",
              "          const docLink = document.createElement('div');\n",
              "          docLink.innerHTML = docLinkHtml;\n",
              "          element.appendChild(docLink);\n",
              "        }\n",
              "      </script>\n",
              "    </div>\n",
              "  </div>\n",
              "  "
            ]
          },
          "metadata": {},
          "execution_count": 57
        }
      ]
    },
    {
      "cell_type": "markdown",
      "metadata": {
        "id": "82debw1JOXTe"
      },
      "source": [
        "Imported Bowling Dataset"
      ]
    },
    {
      "cell_type": "code",
      "execution_count": null,
      "metadata": {
        "id": "C6QOr8a5OdM3"
      },
      "outputs": [],
      "source": [
        "bowling_dataset=pd.read_csv('/content/drive/MyDrive/Thesis Data set/Bowling List/Bowling_data.csv')\n",
        "bowling_dataset"
      ]
    },
    {
      "cell_type": "code",
      "execution_count": null,
      "metadata": {
        "id": "EeIMLYVpfARS"
      },
      "outputs": [],
      "source": [
        "bowling_dataset.info()"
      ]
    },
    {
      "cell_type": "code",
      "execution_count": null,
      "metadata": {
        "id": "MrisGp54M_Jx"
      },
      "outputs": [],
      "source": [
        "bowling_dataset.describe()"
      ]
    },
    {
      "cell_type": "code",
      "execution_count": null,
      "metadata": {
        "id": "mE0kFpdZNHt3"
      },
      "outputs": [],
      "source": [
        "bowling_dataset.corr()"
      ]
    },
    {
      "cell_type": "code",
      "execution_count": null,
      "metadata": {
        "id": "pQ-oQ7JaNO9m"
      },
      "outputs": [],
      "source": [
        "plt.figure(figsize=(12,10))\n",
        "corr=bowling_dataset.corr()\n",
        "sns.heatmap(corr,annot=True)\n",
        "plt.show()"
      ]
    },
    {
      "cell_type": "code",
      "source": [],
      "metadata": {
        "id": "1KNArtbTqbVP"
      },
      "execution_count": null,
      "outputs": []
    },
    {
      "cell_type": "markdown",
      "source": [
        "Feature Scaling"
      ],
      "metadata": {
        "id": "spICogACvD41"
      }
    },
    {
      "cell_type": "code",
      "source": [
        "from sklearn.preprocessing import MinMaxScaler, OneHotEncoder\n",
        "\n",
        "def minmax_scaler_string_features(data):\n",
        "    # select only the string features from the dataset\n",
        "    string_features = data.select_dtypes(include=['object']).columns.tolist()\n",
        "\n",
        "    # convert string features into numerical features using one-hot encoding\n",
        "    enc = OneHotEncoder()\n",
        "    enc.fit(data[string_features])\n",
        "    data_encoded = enc.transform(data[string_features]).toarray()\n",
        "\n",
        "    # scale the numerical features using MinMaxScaler\n",
        "    scaler = MinMaxScaler()\n",
        "    scaler.fit(data.select_dtypes(exclude=['object']))\n",
        "    data_scaled = scaler.transform(data.select_dtypes(exclude=['object']))\n",
        "\n",
        "    # combine the scaled numerical features and one-hot encoded string features into a single dataset\n",
        "    data_final = pd.concat([pd.DataFrame(data_scaled), pd.DataFrame(data_encoded)], axis=1)\n",
        "\n",
        "    return data_final\n"
      ],
      "metadata": {
        "id": "79QBl74YvGN5"
      },
      "execution_count": 46,
      "outputs": []
    },
    {
      "cell_type": "code",
      "source": [
        "batting_dataset_minmax=minmax_scaler_string_features(batting_data_updated)\n",
        "batting_dataset_minmax"
      ],
      "metadata": {
        "id": "HRlQiAwWqBhE"
      },
      "execution_count": null,
      "outputs": []
    },
    {
      "cell_type": "code",
      "source": [
        "bowling_dataset_minmax=minmax_scaler_string_features(bowling_dataset)\n",
        "bowling_dataset_minmax"
      ],
      "metadata": {
        "id": "oJx39PacvzX4"
      },
      "execution_count": null,
      "outputs": []
    },
    {
      "cell_type": "code",
      "source": [
        "batting_weather_dataset_minmax=minmax_scaler_string_features(batting_weather_dataset_updated)\n",
        "batting_weather_dataset_minmax"
      ],
      "metadata": {
        "id": "gOL2mxr3wIHU"
      },
      "execution_count": null,
      "outputs": []
    },
    {
      "cell_type": "code",
      "source": [
        "bowling_weather_dataset_minmax=minmax_scaler_string_features(bowling_weather_dataset_updated)\n",
        "bowling_weather_dataset_minmax"
      ],
      "metadata": {
        "id": "fHg_HXBlwbbD"
      },
      "execution_count": null,
      "outputs": []
    },
    {
      "cell_type": "code",
      "source": [
        "fielding_weather_dataset_minmax=minmax_scaler_string_features(fielding_weather_dataset_updated)\n",
        "fielding_weather_dataset_minmax"
      ],
      "metadata": {
        "id": "aTU1ZumSwkG4"
      },
      "execution_count": null,
      "outputs": []
    },
    {
      "cell_type": "markdown",
      "source": [
        "Individual Player performance"
      ],
      "metadata": {
        "id": "WDbb8_GSxCZy"
      }
    },
    {
      "cell_type": "code",
      "source": [
        "import pandas as pd\n",
        "\n",
        "def get_batting_consistency(data, name):\n",
        "    # Load the dataset into a pandas DataFrame\n",
        "    df = pd.DataFrame(data)\n",
        "    \n",
        "    # Filter the DataFrame to only include rows for the specified player name\n",
        "    player_df = df.loc[df['Name'] == name]\n",
        "    \n",
        "    # Create a list of dictionaries representing the stats for each occurrence of the name\n",
        "    stats_list = []\n",
        "    total_runs = 0\n",
        "    total_balls=0\n",
        "    innings=0\n",
        "    not_out=0\n",
        "    average=0\n",
        "    centuries=0\n",
        "    fiftees=0\n",
        "    zeros=0\n",
        "    for i in range(len(player_df)):\n",
        "\n",
        "\n",
        "        innings=innings+1\n",
        "        desc= player_df.iloc[i]['Description']\n",
        "        if (desc=='not out'):\n",
        "          not_out=not_out+1\n",
        "        balls= player_df.iloc[i]['Balls']\n",
        "        runs= player_df.iloc[i]['Runs']\n",
        "        if (runs>=100):\n",
        "          centuries=centuries+1\n",
        "        if (runs>=50 and runs<100):\n",
        "          fiftees=fiftees+1\n",
        "        if (runs==0):\n",
        "          zeros=zeros+1\n",
        "        \n",
        "        stats = {\n",
        "            'description': player_df.iloc[i]['Description'],\n",
        "            'runs': player_df.iloc[i]['Runs'],\n",
        "            'balls': player_df.iloc[i]['Balls'],\n",
        "            'fours': player_df.iloc[i]['Fours'],\n",
        "            'sixes': player_df.iloc[i]['Sixes']\n",
        "        }\n",
        "        total_runs += player_df.iloc[i]['Runs']\n",
        "        total_balls+= player_df.iloc[i]['Balls']\n",
        "        \n",
        "        stats_list.append(stats)\n",
        "    average=total_runs/(innings-not_out)\n",
        "    strike_rate=(total_runs/total_balls)*100\n",
        "\n",
        "    Consistency = 0.4262*average + 0.2566*innings + 0.1510*strike_rate + 0.0787*centuries + 0.0556*fiftees - 0.0328*zeros\n",
        "    \n",
        "    return Consistency\n"
      ],
      "metadata": {
        "id": "_r2D0YjUxGzd"
      },
      "execution_count": 90,
      "outputs": []
    },
    {
      "cell_type": "code",
      "source": [
        "batting_consistency = get_batting_consistency(batting_data_updated, 'Afif Hossain')\n",
        "\n",
        "print(batting_consistency)\n"
      ],
      "metadata": {
        "id": "93rZvwO1xLTl"
      },
      "execution_count": null,
      "outputs": []
    }
  ],
  "metadata": {
    "colab": {
      "provenance": [],
      "mount_file_id": "16Bmv6fGNg-FqKuFr-7wNNn2kpqL_inE6",
      "authorship_tag": "ABX9TyNG8iULB1xGFjxgJi7RxFvr",
      "include_colab_link": true
    },
    "kernelspec": {
      "display_name": "Python 3",
      "name": "python3"
    },
    "language_info": {
      "name": "python"
    }
  },
  "nbformat": 4,
  "nbformat_minor": 0
}